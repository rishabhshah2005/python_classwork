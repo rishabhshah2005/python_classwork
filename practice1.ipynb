{
 "cells": [
  {
   "cell_type": "code",
   "execution_count": 19,
   "metadata": {},
   "outputs": [
    {
     "name": "stdout",
     "output_type": "stream",
     "text": [
      "285714\n"
     ]
    }
   ],
   "source": [
    "# shift the rightmost digit to the extreme left. the resulting number should be 1.5 times the orginal\n",
    "def new_num(i):\n",
    "    a=i%10\n",
    "    b=i//10\n",
    "    b += a*(10**(len(str(b))))\n",
    "    return b\n",
    "\n",
    "i = 0\n",
    "while(True):\n",
    "    i+=1\n",
    "    b = new_num(i)\n",
    "    if (i*1.5)==b:\n",
    "        print(i)\n",
    "        break"
   ]
  },
  {
   "cell_type": "code",
   "execution_count": 15,
   "metadata": {},
   "outputs": [
    {
     "name": "stdout",
     "output_type": "stream",
     "text": [
      "rabbits: 7\n",
      "cows: 3\n"
     ]
    }
   ],
   "source": [
    "# wap in a certain farm there are 10 animals. they are cows and rabbits. in total there are 10 heads and 26 legs.\n",
    "# find out the number of cows and rabbit cow=4, rab=2\n",
    "\n",
    "animals = 10\n",
    "rab = 10\n",
    "cow= 0\n",
    "\n",
    "while rab!=0:\n",
    "    if (cow*4)+(rab*2)==26:\n",
    "        print(f\"rabbits: {rab}\")\n",
    "        print(f\"cows: {cow}\")\n",
    "\n",
    "    rab-=1\n",
    "    cow+=1"
   ]
  },
  {
   "cell_type": "code",
   "execution_count": 20,
   "metadata": {},
   "outputs": [],
   "source": [
    "def pairs(n):\n",
    "    months = 0\n",
    "    matured = 0\n",
    "    nonmat = 2\n",
    "    total = 2\n",
    "#     while(months!=n):\n",
    "        "
   ]
  },
  {
   "cell_type": "code",
   "execution_count": 86,
   "metadata": {},
   "outputs": [
    {
     "name": "stdout",
     "output_type": "stream",
     "text": [
      "             * \n",
      "            * *\n",
      "           *   *\n",
      "          *     *\n",
      "         *       *\n",
      "        *         *\n",
      "       * * * * * * *\n",
      "      *             *\n",
      "     *               *\n",
      "    *                 *\n",
      "   *                   *\n",
      "  *                     *\n",
      " *                       *\n"
     ]
    }
   ],
   "source": [
    "c = 14\n",
    "line = int(round(c*0.5))\n",
    "for i in range(1, c):\n",
    "    print(\" \"*(c-i), end='')\n",
    "    \n",
    "    if i==line:\n",
    "        print(\"* \"*(i-1)+\"*\")\n",
    "        continue\n",
    "    if i-2<0:\n",
    "        print(\"* \")\n",
    "    elif i==2:\n",
    "        print(\"* *\")\n",
    "\n",
    "    else:\n",
    "        print(\"*\"+\"  \"*(i-2)+\" *\")"
   ]
  },
  {
   "cell_type": "code",
   "execution_count": 101,
   "metadata": {},
   "outputs": [
    {
     "name": "stdout",
     "output_type": "stream",
     "text": [
      "* * * * * * * \n",
      "*            *\n",
      "*             *\n",
      "*             *\n",
      "*             *\n",
      "*            *\n",
      "* * * * * * * \n",
      "*            *\n",
      "*             *\n",
      "*             *\n",
      "*             *\n",
      "*            *\n",
      "* * * * * * * \n"
     ]
    }
   ],
   "source": [
    "#letter B\n",
    "c = 13\n",
    "half= (c//2)\n",
    "\n",
    "for i in range(c):\n",
    "    if i==0 or i==half or i==c-1:\n",
    "        print(\"* \"*(half+1))\n",
    "    else:\n",
    "        if i==half+1 or i==half-1 or i==1 or i==c-2:\n",
    "            print(\"*\",end='')\n",
    "            print(\"  \"*(half)+\"*\")\n",
    "        else: \n",
    "            print(\"*\",end='')\n",
    "            print(\"  \"*(half)+\" *\")\n",
    "        "
   ]
  },
  {
   "cell_type": "code",
   "execution_count": 106,
   "metadata": {},
   "outputs": [
    {
     "name": "stdout",
     "output_type": "stream",
     "text": [
      "          \n",
      "         * \n",
      "        * * \n",
      "       * * * \n",
      "      * * * * \n",
      "     * * * * * \n",
      "    * * * * * * \n",
      "   * * * * * * * \n",
      "  * * * * * * * * \n",
      " * * * * * * * * * \n",
      "* * * * * * * * * * \n",
      " * * * * * * * * * \n",
      "  * * * * * * * * \n",
      "   * * * * * * * \n",
      "    * * * * * * \n",
      "     * * * * * \n",
      "      * * * * \n",
      "       * * * \n",
      "        * * \n",
      "         * \n"
     ]
    }
   ],
   "source": [
    "c = 10\n",
    "for i in range(c):\n",
    "    print(\" \"*(c-i)+\"* \"*i)\n",
    "\n",
    "for i in range(c, 0, -1):\n",
    "    print(\" \"*(c-i)+\"* \"*i)"
   ]
  },
  {
   "cell_type": "code",
   "execution_count": 118,
   "metadata": {},
   "outputs": [
    {
     "name": "stdout",
     "output_type": "stream",
     "text": [
      "Enter no1: 1\n",
      "Enter no2: 2\n",
      "Enter no3: 3\n",
      "Enter no4: 4\n",
      "Enter no5: 5\n",
      "0\n",
      "0\n"
     ]
    }
   ],
   "source": [
    "string = \"\"\n",
    "for i in range(1, 6):\n",
    "    a = input(f\"Enter no{i}: \")\n",
    "    string+= a+\"*\"\n",
    "    \n",
    "sum = 0\n",
    "a = 0\n",
    "b = 0\n",
    "\n",
    "num1 = \"\"\n",
    "num2=\"\"\n",
    "\n",
    "for i in string: \n",
    "    if i==\"*\":\n",
    "        for j in string:\n",
    "            if j==\" \":\n",
    "                s = int(num2)+int(num1)\n",
    "                if s>sum and num2!=num1:\n",
    "                    sum=s\n",
    "                    a=num1\n",
    "                    b=num2\n",
    "                num2=\"\"\n",
    "            else:\n",
    "                num2+=j\n",
    "        num1=\"\"\n",
    "    else:\n",
    "        num1+=i\n",
    "    \n",
    "print(a)\n",
    "print(b)"
   ]
  },
  {
   "cell_type": "code",
   "execution_count": null,
   "metadata": {},
   "outputs": [],
   "source": []
  },
  {
   "cell_type": "code",
   "execution_count": null,
   "metadata": {},
   "outputs": [],
   "source": []
  }
 ],
 "metadata": {
  "kernelspec": {
   "display_name": "Python 3",
   "language": "python",
   "name": "python3"
  },
  "language_info": {
   "codemirror_mode": {
    "name": "ipython",
    "version": 3
   },
   "file_extension": ".py",
   "mimetype": "text/x-python",
   "name": "python",
   "nbconvert_exporter": "python",
   "pygments_lexer": "ipython3",
   "version": "3.8.5"
  }
 },
 "nbformat": 4,
 "nbformat_minor": 4
}
