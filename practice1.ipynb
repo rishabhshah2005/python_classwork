{
 "cells": [
  {
   "cell_type": "code",
   "execution_count": 19,
   "metadata": {},
   "outputs": [
    {
     "name": "stdout",
     "output_type": "stream",
     "text": [
      "285714\n"
     ]
    }
   ],
   "source": [
    "# shift the rightmost digit to the extreme left. the resulting number should be 1.5 times the orginal\n",
    "def new_num(i):\n",
    "    a=i%10\n",
    "    b=i//10\n",
    "    b += a*(10**(len(str(b))))\n",
    "    return b\n",
    "\n",
    "i = 0\n",
    "while(True):\n",
    "    i+=1\n",
    "    b = new_num(i)\n",
    "    if (i*1.5)==b:\n",
    "        print(i)\n",
    "        break"
   ]
  },
  {
   "cell_type": "code",
   "execution_count": 15,
   "metadata": {},
   "outputs": [
    {
     "name": "stdout",
     "output_type": "stream",
     "text": [
      "rabbits: 7\n",
      "cows: 3\n"
     ]
    }
   ],
   "source": [
    "# wap in a certain farm there are 10 animals. they are cows and rabbits. in total there are 10 heads and 26 legs.\n",
    "# find out the number of cows and rabbit cow=4, rab=2\n",
    "\n",
    "animals = 10\n",
    "rab = 10\n",
    "cow= 0\n",
    "\n",
    "while rab!=0:\n",
    "    if (cow*4)+(rab*2)==26:\n",
    "        print(f\"rabbits: {rab}\")\n",
    "        print(f\"cows: {cow}\")\n",
    "\n",
    "    rab-=1\n",
    "    cow+=1"
   ]
  },
  {
   "cell_type": "code",
   "execution_count": null,
   "metadata": {},
   "outputs": [],
   "source": []
  }
 ],
 "metadata": {
  "kernelspec": {
   "display_name": "Python 3",
   "language": "python",
   "name": "python3"
  },
  "language_info": {
   "codemirror_mode": {
    "name": "ipython",
    "version": 3
   },
   "file_extension": ".py",
   "mimetype": "text/x-python",
   "name": "python",
   "nbconvert_exporter": "python",
   "pygments_lexer": "ipython3",
   "version": "3.8.5"
  }
 },
 "nbformat": 4,
 "nbformat_minor": 4
}
