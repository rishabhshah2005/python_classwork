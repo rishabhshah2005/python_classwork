{
 "cells": [
  {
   "cell_type": "code",
   "execution_count": null,
   "metadata": {},
   "outputs": [],
   "source": [
    "# WAP to extract japanese text from a given file secret message\n",
    "\n",
    "with open(\"exer/secretmessage.txt\", \"r\", encoding='utf-8') as f:\n",
    "    data = f.read()\n",
    "    msg = \"\"\n",
    "    for i in data:\n",
    "        if ord(i)>122:\n",
    "            msg+=i\n",
    "    print(msg)\n",
    "            "
   ]
  },
  {
   "cell_type": "code",
   "execution_count": null,
   "metadata": {},
   "outputs": [],
   "source": [
    "# the meaning of the message in english is the first letter of each line\n",
    "with open(\"exer/secretmessage.txt\", \"r\", encoding='utf-8') as f:\n",
    "    data = f.readline()\n",
    "    msg = \"\"\n",
    "    while data:\n",
    "        msg += data[0]\n",
    "        data = f.readline()\n",
    "    print(msg)"
   ]
  },
  {
   "cell_type": "code",
   "execution_count": 8,
   "metadata": {},
   "outputs": [
    {
     "name": "stdout",
     "output_type": "stream",
     "text": [
      "avg: 0.7507185185185187\n"
     ]
    }
   ],
   "source": [
    "# WAP from file mbox-short.txt \n",
    "\n",
    "with open(\"exer/mbox-short.txt \", \"r\", encoding='utf-8') as f:\n",
    "    data = f.readline()\n",
    "    sum1 = 0\n",
    "    cnt = 0\n",
    "    while data:\n",
    "        if \"DSPAM-Confidence:\" in data:\n",
    "            l = data.split(\":\")\n",
    "            sum1+=float(l[1].strip())\n",
    "            cnt+=1\n",
    "        data = f.readline()\n",
    "            \n",
    "    print(\"avg:\", sum1/cnt)"
   ]
  },
  {
   "cell_type": "code",
   "execution_count": 13,
   "metadata": {},
   "outputs": [
    {
     "name": "stdout",
     "output_type": "stream",
     "text": [
      "zqian@umich.edu\n",
      "gsilver@umich.edu\n",
      "gopal.ramasammycook@gmail.com\n",
      "louis@media.berkeley.edu\n",
      "wagnermr@iupui.edu\n",
      "antranig@caret.cam.ac.uk\n",
      "david.horwitz@uct.ac.za\n",
      "ray@media.berkeley.edu\n",
      "stephen.marquard@uct.ac.za\n",
      "rjlowe@iupui.edu\n",
      "cwen@iupui.edu\n"
     ]
    }
   ],
   "source": [
    "# now extract emails from mbox-short \n",
    "\n",
    "with open(\"exer/mbox-short.txt \", \"r\", encoding='utf-8') as f:\n",
    "    data = f.readline()\n",
    "    s = set()\n",
    "    while data:\n",
    "        if \"From\" in data or \" by \" in data:\n",
    "            l = data.split(\" \")\n",
    "            for i in l:\n",
    "                if \"@\" in i:\n",
    "                    s.add(i.strip())\n",
    "        data = f.readline()\n",
    "    \n",
    "    for i in s:\n",
    "        print(i)"
   ]
  },
  {
   "cell_type": "code",
   "execution_count": null,
   "metadata": {},
   "outputs": [],
   "source": []
  }
 ],
 "metadata": {
  "kernelspec": {
   "display_name": "Python 3",
   "language": "python",
   "name": "python3"
  }
 },
 "nbformat": 4,
 "nbformat_minor": 4
}
