{
 "cells": [
  {
   "cell_type": "code",
   "execution_count": null,
   "metadata": {},
   "outputs": [],
   "source": [
    "l = [12,7,1,13]\n",
    "sum(l)\n",
    "su=0\n",
    "# sum(l)\n",
    "for i in l:\n",
    "    if i==13:\n",
    "        pass\n",
    "    elif l[l.index(i)-1]==13:\n",
    "        pass\n",
    "    else:\n",
    "        su+=i\n",
    "        \n",
    "print(su)"
   ]
  },
  {
   "cell_type": "code",
   "execution_count": null,
   "metadata": {},
   "outputs": [],
   "source": [
    "# given a list of length n you need to count the number of special elements in the list. An element is special\n",
    "# if removal of that element maked the list balanced. A list is balanced if sum of numbers at even index is\n",
    "# equal to sum of numbers at odd index.\n",
    "# l = [1,7,3,4,5,6,7,8,9, 15]\n",
    "l = [2,6,4]\n",
    "odd_lst = l[::2]\n",
    "even_lst = l[1::2]\n",
    "print(odd_lst)\n",
    "print(even_lst)\n",
    "even = sum(even_lst)\n",
    "odd = sum(odd_lst)\n",
    "diff = max(even, odd)-min(even,odd)\n",
    "print(diff)\n",
    "print(even, odd)\n",
    "s=0\n",
    "\n",
    "for i in range(len(l)):\n",
    "    cop = l.copy()\n",
    "    del cop[i]\n",
    "    odd = sum(cop[::2])\n",
    "    even = sum(cop[1::2])\n",
    "    if even==odd:\n",
    "        s+=1\n",
    "\n",
    "print(s)"
   ]
  },
  {
   "cell_type": "code",
   "execution_count": null,
   "metadata": {},
   "outputs": [],
   "source": [
    "# find the length of the longest consecutive number from a given list\n",
    "\n",
    "lst = [12,13,1,2,3,4,14,15,5,6,7]\n",
    "\n",
    "def find_next(lst):\n",
    "    lens = []\n",
    "    lst.sort()\n",
    "    cnt=0\n",
    "    for i in range(len(lst)-1):\n",
    "        if lst[i]==lst[i+1]-1:\n",
    "            cnt+=1\n",
    "        else:\n",
    "            if cnt!=0:\n",
    "                lens.append(cnt+1)\n",
    "                cnt=0\n",
    "    else:\n",
    "        if cnt!=0:\n",
    "            lens.append(cnt+1)\n",
    "    return lens\n",
    "\n",
    "print(find_next(lst))\n",
    "lst.sort()\n",
    "print(lst)\n",
    "        "
   ]
  },
  {
   "cell_type": "code",
   "execution_count": 1,
   "metadata": {},
   "outputs": [
    {
     "name": "stdout",
     "output_type": "stream",
     "text": [
      "Enter ip: 192.13.123.123.12\n",
      "Ip is not valid\n"
     ]
    }
   ],
   "source": [
    "# write a program to check if an ip address is valid or not\n",
    "\n",
    "s = input(\"Enter ip: \")\n",
    "lst = s.split(\".\")\n",
    "valid = False\n",
    "if len(lst)==4:\n",
    "    for i in lst:\n",
    "        if not (int(i)<256 and int(i)>=0):\n",
    "            valid = False\n",
    "            break\n",
    "    else:\n",
    "        valid = True\n",
    "\n",
    "if valid:\n",
    "    print(\"IP is valid\")\n",
    "else:\n",
    "    print(\"Ip is not valid\")"
   ]
  },
  {
   "cell_type": "code",
   "execution_count": null,
   "metadata": {},
   "outputs": [],
   "source": [
    "# say you have an array for which ith element is prize of a given stock design an algorithm to find maximum profit\n",
    "# you may complete atmost 2 transactions. You cannot do multiple transactions at same time(you must sell the stock\n",
    "# after buying on the previous day)"
   ]
  },
  {
   "cell_type": "code",
   "execution_count": null,
   "metadata": {},
   "outputs": [],
   "source": []
  }
 ],
 "metadata": {
  "kernelspec": {
   "display_name": "Python 3",
   "language": "python",
   "name": "python3"
  },
  "language_info": {
   "codemirror_mode": {
    "name": "ipython",
    "version": 3
   },
   "file_extension": ".py",
   "mimetype": "text/x-python",
   "name": "python",
   "nbconvert_exporter": "python",
   "pygments_lexer": "ipython3",
   "version": "3.8.5"
  }
 },
 "nbformat": 4,
 "nbformat_minor": 4
}
