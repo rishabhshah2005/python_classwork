{
 "cells": [
  {
   "cell_type": "code",
   "execution_count": 60,
   "metadata": {},
   "outputs": [
    {
     "name": "stdout",
     "output_type": "stream",
     "text": [
      "{(1, 2, 3), (4, 5, 6)}\n",
      "{1, 2, 3}\n",
      "{1, 2, 3, 4, 5}\n",
      "{1, 2, 3}\n",
      "{4, 5}\n",
      "True\n",
      "False\n",
      "{1, 2, 100, 6, 7, 9, 10}\n",
      "{0.2, 1, 2, 100, 6, 7, 9, 10}\n",
      "{1, 2, 10}\n",
      "{100, 6, 7, 9, 11}\n",
      "{1, 2, 10, 11}\n",
      "True\n",
      "False\n"
     ]
    }
   ],
   "source": [
    "a = {1,2,2,2,3}\n",
    "b = {1,2,3,5,4}\n",
    "c = {(1,2,3), (4,5,6)} # dicts and lists are not allowed in sets\n",
    "print(c)\n",
    "print(a)\n",
    "print(b)\n",
    "print(a.intersection(b))\n",
    "print(b.difference(a))\n",
    "print(a.issubset(b))\n",
    "print(a.issuperset(b))\n",
    "a.update([6, 3, 7])\n",
    "a.update({9})\n",
    "a.update((10,7))\n",
    "# a.update((10)) this would give an error\n",
    "# set.update() takes an iterable as a argument. It iterates through it and adds each element in it to the set\n",
    "a.remove(3)\n",
    "a |= {100} # this is the operator for union\n",
    "print(a)\n",
    "print(a|{0.2, 0.200})\n",
    "print(a & {1,2,10,11}) # the operator for intersection\n",
    "print(a ^ {1,2,10,11}) # this is the equivalent of (A union B) - (A intersection B). ie symmetric difference\n",
    "print(a ^ {1,2,10,11} ^ a)\n",
    "print({1,2,3}>{2,3}) # is 2,3 subset of 1,2,3\n",
    "print({1,2,3}<{2,3}) # is 2,3 superset of 1,2,3"
   ]
  },
  {
   "cell_type": "code",
   "execution_count": 37,
   "metadata": {},
   "outputs": [
    {
     "data": {
      "text/plain": [
       "'Update a set with the union of itself and others.'"
      ]
     },
     "execution_count": 37,
     "metadata": {},
     "output_type": "execute_result"
    }
   ],
   "source": [
    "dir(a)\n",
    "a.update.__doc__\n"
   ]
  },
  {
   "cell_type": "code",
   "execution_count": 54,
   "metadata": {},
   "outputs": [],
   "source": [
    "# t = tuple((1))\n",
    "# for i in t:\n",
    "#     print(i)"
   ]
  },
  {
   "cell_type": "code",
   "execution_count": 48,
   "metadata": {},
   "outputs": [],
   "source": [
    "# a frozen set is a set in which elements cant be changed. Therefore they are immutable\n",
    "# hence they can be used as dictionary keys"
   ]
  },
  {
   "cell_type": "code",
   "execution_count": 53,
   "metadata": {},
   "outputs": [
    {
     "name": "stdout",
     "output_type": "stream",
     "text": [
      "hello\n",
      "sum: 30\n"
     ]
    }
   ],
   "source": [
    "# lambda function is an anonymous function. It can take any number of args but has one expression\n",
    "x = lambda: print(\"hello\")\n",
    "y = lambda a,b: print(\"sum:\", a+b)\n",
    "x()\n",
    "y(10,20)"
   ]
  },
  {
   "cell_type": "code",
   "execution_count": 57,
   "metadata": {},
   "outputs": [
    {
     "name": "stdout",
     "output_type": "stream",
     "text": [
      "8\n",
      "20\n"
     ]
    }
   ],
   "source": [
    "def multiplyby(x):\n",
    "    return lambda a : a*x\n",
    "\n",
    "two = multiplyby(2)\n",
    "five = multiplyby(5)\n",
    "print(two(4))\n",
    "print(five(4))"
   ]
  },
  {
   "cell_type": "code",
   "execution_count": 64,
   "metadata": {},
   "outputs": [
    {
     "name": "stdout",
     "output_type": "stream",
     "text": [
      "[2, 4, 8, 6, 10, 1, 3, 9]\n",
      "dict_items([(1, 'r'), (2, 'a'), (3, 'c'), (4, 'b')])\n",
      "[(2, 'a'), (4, 'b'), (3, 'c'), (1, 'r')]\n"
     ]
    }
   ],
   "source": [
    "d=[2,4,1,3,9,8,6,10]\n",
    "print(sorted(d, key=lambda a:a%2))\n",
    "# the key in sorted helps to customize the sorting process.\n",
    "# the function in the key returns a number on the basis of which the sorting happens, where 'a' is the iterated value of d\n",
    "d = {1:'r', 2:\"a\", 3:'c', 4:'b'}\n",
    "print(d.items())\n",
    "print(sorted(d.items(), key=lambda a:a[1]))"
   ]
  },
  {
   "cell_type": "code",
   "execution_count": 81,
   "metadata": {},
   "outputs": [
    {
     "name": "stdout",
     "output_type": "stream",
     "text": [
      "[0, 1, 2, 3, 4, 5, 6, 7, 8, 9]\n",
      "[0, 2, 4, 6, 8]\n"
     ]
    }
   ],
   "source": [
    "d = [ i for i in range(10) ]\n",
    "print(d)\n",
    "\n",
    "d = [ i for i in range(10) if i%2==0]\n",
    "print(d)"
   ]
  },
  {
   "cell_type": "code",
   "execution_count": 80,
   "metadata": {},
   "outputs": [
    {
     "name": "stdout",
     "output_type": "stream",
     "text": [
      "['RISHABH', 'AVI', 'ANSH', 'JACK']\n"
     ]
    }
   ],
   "source": [
    "# map method matches the func to the given iterable converting into a list which returns the desired outcome based on the\n",
    "# given func\n",
    "name = [\"Rishabh\", \"aVi\", \"ansh\", 'Jack']\n",
    "name = map(str.upper, name)\n",
    "name = list(name)\n",
    "print(name)"
   ]
  },
  {
   "cell_type": "code",
   "execution_count": null,
   "metadata": {},
   "outputs": [],
   "source": []
  }
 ],
 "metadata": {
  "kernelspec": {
   "display_name": "Python 3",
   "language": "python",
   "name": "python3"
  },
  "language_info": {
   "codemirror_mode": {
    "name": "ipython",
    "version": 3
   },
   "file_extension": ".py",
   "mimetype": "text/x-python",
   "name": "python",
   "nbconvert_exporter": "python",
   "pygments_lexer": "ipython3",
   "version": "3.8.5"
  }
 },
 "nbformat": 4,
 "nbformat_minor": 4
}
