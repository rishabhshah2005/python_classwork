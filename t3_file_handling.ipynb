{
 "cells": [
  {
   "cell_type": "code",
   "execution_count": 22,
   "metadata": {},
   "outputs": [],
   "source": [
    "f = open(\"test1.txt\", 'w', encoding='utf-8')\n",
    "f.truncate()\n",
    "cnt=1\n",
    "\n",
    "while True:\n",
    "    try:\n",
    "        if cnt%70==0:\n",
    "            f.write(chr(cnt)+\"\\n\")\n",
    "        else:\n",
    "            f.write(chr(cnt))\n",
    "        cnt+=1\n",
    "    except ValueError:\n",
    "        break\n",
    "\n",
    "f.close()\n",
    "    \n",
    "        "
   ]
  },
  {
   "cell_type": "code",
   "execution_count": 26,
   "metadata": {},
   "outputs": [],
   "source": [
    "with open(\"rishabh.txt\", \"r\") as f:\n",
    "    lines = f.readlines()\n",
    "\n",
    "with open(\"rishabh_copy.txt\", 'w') as f2:\n",
    "    f2.writelines(lines)"
   ]
  },
  {
   "cell_type": "code",
   "execution_count": 28,
   "metadata": {},
   "outputs": [
    {
     "name": "stdout",
     "output_type": "stream",
     "text": [
      "['_CHUNK_SIZE', '__class__', '__del__', '__delattr__', '__dict__', '__dir__', '__doc__', '__enter__', '__eq__', '__exit__', '__format__', '__ge__', '__getattribute__', '__gt__', '__hash__', '__init__', '__init_subclass__', '__iter__', '__le__', '__lt__', '__ne__', '__new__', '__next__', '__reduce__', '__reduce_ex__', '__repr__', '__setattr__', '__sizeof__', '__str__', '__subclasshook__', '_checkClosed', '_checkReadable', '_checkSeekable', '_checkWritable', '_finalizing', 'buffer', 'close', 'closed', 'detach', 'encoding', 'errors', 'fileno', 'flush', 'isatty', 'line_buffering', 'mode', 'name', 'newlines', 'read', 'readable', 'readline', 'readlines', 'reconfigure', 'seek', 'seekable', 'tell', 'truncate', 'writable', 'write', 'write_through', 'writelines']\n"
     ]
    }
   ],
   "source": [
    "f = open(\"rishabh_copy.txt\", 'w', encoding='utf-8')\n",
    "print(dir(f))\n",
    "f.close()"
   ]
  },
  {
   "attachments": {},
   "cell_type": "markdown",
   "metadata": {},
   "source": [
    "## f.seek()\n",
    "fileObject.seek(offset, whence)\n",
    "\n",
    "- offset − This is the number of positions of the read/write pointer to move within the file.\n",
    "- whence − (Optional) It defaults to 0; which means absolute file positioning, other values are 1 which means seek relative to the current position and 2 means seek relative to the file's end.\n"
   ]
  },
  {
   "cell_type": "markdown",
   "metadata": {},
   "source": [
    "-**file.close():** Close the file. A closed file cannot be read or written any more.\n",
    "\n",
    "-**file.flush():** Flush the internal buffer, like stdio's fflush. This may be a no-op on some file-like objects.\n",
    "\n",
    "-**file.fileno():** Returns the integer file descriptor that is used by the underlying implementation to request I/O operations from the operating system.\n",
    "\n",
    "-**file.isatty():** Returns True if the file is connected to a tty(-like) device, else False.\n",
    "\n",
    "-**file.next():** Returns the next line from the file each time it is being called.\n",
    "\n",
    "-**file.read([size]):** Reads at most size bytes from the file (less if the read hits EOF before obtaining size bytes).\n",
    "\n",
    "-**file.readline([size]):** Reads one entire line from the file. A trailing newline character is kept in the string.\n",
    "\n",
    "-**file.readlines([sizehint]):** Reads until EOF using readline() and return a list containing the lines. If the optional sizehint argument is present, instead of reading up to EOF, whole lines totalling approximately sizehint bytes (possibly after rounding up to an internal buffer size) are read.\n",
    "\n",
    "-**file.seek(offset[, whence]):** Sets the file's current position\n",
    "\n",
    "-**file.tell():** Returns the file's current position\n",
    "\n",
    "-**file.truncate([size]):** Truncates the file's size. If the optional size argument is present, the file is truncated to (at most) that size.\n",
    "\n",
    "-**file.write(str):** Writes a string to the file. There is no return value.\n",
    "\n",
    "-**file.writelines(sequence):** Writes a sequence of strings to the file. The sequence can be any iterable object producing strings, typically a list of strings."
   ]
  },
  {
   "cell_type": "code",
   "execution_count": 29,
   "metadata": {},
   "outputs": [
    {
     "name": "stdout",
     "output_type": "stream",
     "text": [
      "7\n"
     ]
    }
   ],
   "source": [
    "with open(\"swami.txt\", 'r') as f:\n",
    "    l = f.readlines()\n",
    "\n",
    "print(len(l))"
   ]
  },
  {
   "cell_type": "code",
   "execution_count": null,
   "metadata": {},
   "outputs": [],
   "source": []
  }
 ],
 "metadata": {
  "kernelspec": {
   "display_name": "Python 3",
   "language": "python",
   "name": "python3"
  },
  "language_info": {
   "codemirror_mode": {
    "name": "ipython",
    "version": 3
   },
   "file_extension": ".py",
   "mimetype": "text/x-python",
   "name": "python",
   "nbconvert_exporter": "python",
   "pygments_lexer": "ipython3",
   "version": "3.8.5"
  }
 },
 "nbformat": 4,
 "nbformat_minor": 4
}
