{
 "cells": [
  {
   "cell_type": "code",
   "execution_count": 84,
   "metadata": {},
   "outputs": [
    {
     "name": "stdout",
     "output_type": "stream",
     "text": [
      "hello10 4\n",
      "45\n"
     ]
    }
   ],
   "source": [
    "def hello(y, x=10):\n",
    "    global g\n",
    "    g =45\n",
    "    print(\"hello\"+str(x)+\" \"+str(y))\n",
    "\n",
    "# Global variable only work when the function is called atleast once\n",
    "\n",
    "hello(4)\n",
    "print(g)"
   ]
  },
  {
   "cell_type": "code",
   "execution_count": 40,
   "metadata": {},
   "outputs": [
    {
     "name": "stdout",
     "output_type": "stream",
     "text": [
      "7.37.3\n",
      "7\n"
     ]
    }
   ],
   "source": [
    "def calc_area(rad:int)-> int: #Type hinting\n",
    "    \"\"\"\n",
    "    DOCSTRING\n",
    "    Returns area of a circle and takes radius as parameter\n",
    "    \"\"\"\n",
    "    return rad*2\n",
    "\n",
    "print(calc_area(\"7.3\"))\n",
    "print(int(7.3))"
   ]
  },
  {
   "cell_type": "code",
   "execution_count": 48,
   "metadata": {},
   "outputs": [
    {
     "name": "stdout",
     "output_type": "stream",
     "text": [
      "1\n",
      "2\n"
     ]
    }
   ],
   "source": [
    "def multi_ret(a, b):\n",
    "    return a,b\n",
    "\n",
    "b, _ = multi_ret(1, 2)\n",
    "print(b)\n",
    "print(_)"
   ]
  },
  {
   "cell_type": "code",
   "execution_count": 74,
   "metadata": {},
   "outputs": [
    {
     "name": "stdout",
     "output_type": "stream",
     "text": [
      "32.00\n",
      "0.00\n"
     ]
    }
   ],
   "source": [
    "# WAP to convert f to C and C to f\n",
    "\n",
    "def convert(temp, conv='f2c'):\n",
    "    if conv=='f2c':\n",
    "        return f\"{((5/9)*(temp-32)):.2f}\"\n",
    "    else:\n",
    "        return f\"{(((9/5)*temp)+32):.2f}\"\n",
    "\n",
    "print(convert(0, 'c2f'))\n",
    "print(convert(32, 'f2c'))"
   ]
  },
  {
   "cell_type": "code",
   "execution_count": null,
   "metadata": {},
   "outputs": [],
   "source": []
  }
 ],
 "metadata": {
  "kernelspec": {
   "display_name": "Python 3",
   "language": "python",
   "name": "python3"
  },
  "language_info": {
   "codemirror_mode": {
    "name": "ipython",
    "version": 3
   },
   "file_extension": ".py",
   "mimetype": "text/x-python",
   "name": "python",
   "nbconvert_exporter": "python",
   "pygments_lexer": "ipython3",
   "version": "3.8.5"
  }
 },
 "nbformat": 4,
 "nbformat_minor": 4
}
