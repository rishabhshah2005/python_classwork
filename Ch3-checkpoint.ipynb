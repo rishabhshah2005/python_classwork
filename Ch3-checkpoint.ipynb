{
 "cells": [
  {
   "cell_type": "code",
   "execution_count": 90,
   "metadata": {},
   "outputs": [
    {
     "name": "stdout",
     "output_type": "stream",
     "text": [
      "hello10 4\n",
      "True\n"
     ]
    }
   ],
   "source": [
    "def hello(y, x=10):\n",
    "    global j\n",
    "    j =45\n",
    "    print(\"hello\"+str(x)+\" \"+str(y))\n",
    "\n",
    "# Global variable only work when the function is called atleast once\n",
    "\n",
    "hello(4)\n",
    "print(bool(j))"
   ]
  },
  {
   "cell_type": "code",
   "execution_count": 40,
   "metadata": {},
   "outputs": [
    {
     "name": "stdout",
     "output_type": "stream",
     "text": [
      "7.37.3\n",
      "7\n"
     ]
    }
   ],
   "source": [
    "def calc_area(rad:int)-> int: #Type hinting\n",
    "    \"\"\"\n",
    "    DOCSTRING\n",
    "    Returns area of a circle and takes radius as parameter\n",
    "    \"\"\"\n",
    "    return rad*2\n",
    "\n",
    "print(calc_area(\"7.3\"))\n",
    "print(int(7.3))"
   ]
  },
  {
   "cell_type": "code",
   "execution_count": 93,
   "metadata": {},
   "outputs": [
    {
     "ename": "SyntaxError",
     "evalue": "positional argument follows keyword argument (<ipython-input-93-a8427ac77175>, line 4)",
     "output_type": "error",
     "traceback": [
      "\u001b[1;36m  File \u001b[1;32m\"<ipython-input-93-a8427ac77175>\"\u001b[1;36m, line \u001b[1;32m4\u001b[0m\n\u001b[1;33m    b, _ = multi_ret(b=1, 3)\u001b[0m\n\u001b[1;37m                          ^\u001b[0m\n\u001b[1;31mSyntaxError\u001b[0m\u001b[1;31m:\u001b[0m positional argument follows keyword argument\n"
     ]
    }
   ],
   "source": [
    "def multi_ret(a, b):\n",
    "    return a,b\n",
    "\n",
    "b, _ = multi_ret(b=1, 2)\n",
    "# b, _ = multi_ret(b=1, 3) #SyntaxError: positional argument follows keyword argument\n",
    "print(b)\n",
    "print(_)"
   ]
  },
  {
   "cell_type": "code",
   "execution_count": 91,
   "metadata": {},
   "outputs": [
    {
     "name": "stdout",
     "output_type": "stream",
     "text": [
      "32.00\n",
      "0.00\n"
     ]
    }
   ],
   "source": [
    "# WAP to convert f to C and C to f\n",
    "\n",
    "def convert(temp, conv='f2c'):\n",
    "    if conv=='f2c':\n",
    "        return f\"{((5/9)*(temp-32)):.2f}\"\n",
    "    else:\n",
    "        return f\"{(((9/5)*temp)+32):.2f}\"\n",
    "\n",
    "print(convert(0, 'c2f'))\n",
    "print(convert(32, 'f2c'))\n",
    "\n"
   ]
  },
  {
   "cell_type": "markdown",
   "metadata": {},
   "source": [
    "Arguments:\n",
    " - positional: hello(10, 20)\n",
    " - default: hello(a, b=90)\n",
    " - keyword: hello(b=9, a=10)\n",
    "\n",
    "note that positional arguments should always come first\n",
    "so if a function is hello(a, b)\n",
    "hello(b=10, a=0) works but hello(b=8, 6) does not\n",
    "and when defining functions, default parameters are defined at the end of all parameters"
   ]
  },
  {
   "cell_type": "code",
   "execution_count": 97,
   "metadata": {},
   "outputs": [
    {
     "name": "stdout",
     "output_type": "stream",
     "text": [
      "No variables match your requested type.\n"
     ]
    }
   ],
   "source": [
    "whos #you can check variables and funcs in a notebook using this. But type just this without any comments"
   ]
  },
  {
   "cell_type": "code",
   "execution_count": 101,
   "metadata": {},
   "outputs": [
    {
     "name": "stdout",
     "output_type": "stream",
     "text": [
      "type of f: <class 'tuple'>\n",
      "1, 2, 3, 4, 58, 9, \n",
      "(1, 2, 3, 4, 58, 9)\n"
     ]
    }
   ],
   "source": [
    "def give_list(*args): # args\n",
    "    print(\"type of f: \"+str(type(args)))\n",
    "    for i in args:\n",
    "        print(str(i)+\", \", end='')\n",
    "    print()\n",
    "    print(args)\n",
    "\n",
    "give_list(1,2,3,4,58,9)\n",
    "\n",
    "# *f is a tuple"
   ]
  },
  {
   "cell_type": "code",
   "execution_count": 105,
   "metadata": {},
   "outputs": [
    {
     "name": "stdout",
     "output_type": "stream",
     "text": [
      "Type of kwargs: <class 'dict'>\n",
      "name: rishabh\n",
      "age: 19\n",
      "sem: 3\n",
      "{'name': 'rishabh', 'age': 19, 'sem': 3}\n"
     ]
    }
   ],
   "source": [
    "# **kwargs takes a dictionary\n",
    "\n",
    "def give_dict(**kwargs):\n",
    "    print(\"Type of kwargs: \"+str(type(kwargs)))\n",
    "    for i in kwargs:\n",
    "        print(str(i)+\": \"+str(kwargs[i]))\n",
    "    \n",
    "    print(kwargs)\n",
    "\n",
    "give_dict(name=\"rishabh\", age=19, sem=3)"
   ]
  },
  {
   "cell_type": "markdown",
   "metadata": {},
   "source": []
  }
 ],
 "metadata": {
  "kernelspec": {
   "display_name": "Python 3",
   "language": "python",
   "name": "python3"
  },
  "language_info": {
   "codemirror_mode": {
    "name": "ipython",
    "version": 3
   },
   "file_extension": ".py",
   "mimetype": "text/x-python",
   "name": "python",
   "nbconvert_exporter": "python",
   "pygments_lexer": "ipython3",
   "version": "3.8.5"
  }
 },
 "nbformat": 4,
 "nbformat_minor": 4
}
