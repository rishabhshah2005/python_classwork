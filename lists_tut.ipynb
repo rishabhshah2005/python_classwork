{
 "cells": [
  {
   "cell_type": "code",
   "execution_count": 33,
   "metadata": {},
   "outputs": [
    {
     "name": "stdout",
     "output_type": "stream",
     "text": [
      "[7, 6, 5, 4, 3, 2, 1]\n",
      "[]\n"
     ]
    }
   ],
   "source": [
    "# Lists are dynamic data structures\n",
    "lst = [1,2,3,4,5,6,7]\n",
    "lst2= list()\n",
    "print(lst[-1::-1])\n",
    "print(lst2[::])"
   ]
  },
  {
   "cell_type": "code",
   "execution_count": 35,
   "metadata": {},
   "outputs": [
    {
     "name": "stdout",
     "output_type": "stream",
     "text": [
      "[5, 6, 1, 2]\n"
     ]
    }
   ],
   "source": [
    "lst = [4,5,6]+[1,2,3]\n",
    "print(lst[1:-1])"
   ]
  },
  {
   "cell_type": "code",
   "execution_count": 31,
   "metadata": {},
   "outputs": [
    {
     "name": "stdout",
     "output_type": "stream",
     "text": [
      "0\n",
      "[9, 8, 7, 5, 4, 3, 2, 1, 0, 'H', 'e', 'l', 'l', 'o']\n",
      "Remove first occurrence of value.\n",
      "\n",
      "Raises ValueError if the value is not present.\n",
      "['__class__', '__contains__', '__delattr__', '__delitem__', '__dir__', '__doc__', '__eq__', '__format__', '__ge__', '__getattribute__', '__getitem__', '__gt__', '__hash__', '__init__', '__init_subclass__', '__iter__', '__le__', '__len__', '__lt__', '__ne__', '__new__', '__reduce__', '__reduce_ex__', '__repr__', '__reversed__', '__setattr__', '__setitem__', '__sizeof__', '__str__', '__subclasshook__', 'clear', 'copy', 'fromkeys', 'get', 'items', 'keys', 'pop', 'popitem', 'setdefault', 'update', 'values']\n",
      "Enter list: [1,2,3,4,5,6,7,8,9]\n",
      "9\n"
     ]
    }
   ],
   "source": [
    "lst = [5,2,7,0,8,1,3,9,4]\n",
    "\n",
    "lst.sort(reverse=True)\n",
    "print(lst.count(10))\n",
    "lst.extend(\"Hello\")\n",
    "print(lst)\n",
    "print(lst.remove.__doc__)\n",
    "del lst[0]\n",
    "print(dir({1:5}))\n",
    "\n",
    "def getLast():\n",
    "    lst = list(eval(input(\"Enter list: \")))\n",
    "    return lst[-1]\n",
    "\n",
    "print(getLast())"
   ]
  },
  {
   "cell_type": "code",
   "execution_count": 36,
   "metadata": {},
   "outputs": [
    {
     "name": "stdout",
     "output_type": "stream",
     "text": [
      "[2, 5, 1, 0, 3]\n",
      "[1, 3, 2, 1, 2]\n"
     ]
    }
   ],
   "source": [
    "# There are n children standing in a line each child is assigned a rating given in integer array.\n",
    "# You are giving chocolates to these children based on following requirements.\n",
    "#  each child must have one chocolate, children with higher rating get more chocolates than there neighbours\n",
    "# Return the minimum number of chocolates you need to have to distribute to children\n",
    "\n",
    "l = [2,5,1,0,3]\n",
    "\n",
    "def choco(n):\n",
    "    lst = [1]*len(n)\n",
    "    for i in range(len(n)-1):\n",
    "        if n[i]>n[i+1]:\n",
    "            lst[i] +=1\n",
    "        elif n[i]<n[i+1]:\n",
    "            lst[i+1]+=1\n",
    "    else:\n",
    "        print(n)\n",
    "        print(lst)\n",
    "\n",
    "choco(l)\n",
    "        "
   ]
  },
  {
   "cell_type": "code",
   "execution_count": null,
   "metadata": {},
   "outputs": [],
   "source": []
  }
 ],
 "metadata": {
  "kernelspec": {
   "display_name": "Python 3",
   "language": "python",
   "name": "python3"
  },
  "language_info": {
   "codemirror_mode": {
    "name": "ipython",
    "version": 3
   },
   "file_extension": ".py",
   "mimetype": "text/x-python",
   "name": "python",
   "nbconvert_exporter": "python",
   "pygments_lexer": "ipython3",
   "version": "3.8.5"
  }
 },
 "nbformat": 4,
 "nbformat_minor": 4
}
