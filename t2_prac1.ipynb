{
 "cells": [
  {
   "cell_type": "code",
   "execution_count": 1,
   "metadata": {},
   "outputs": [
    {
     "name": "stdout",
     "output_type": "stream",
     "text": [
      "Sum of neg: -11\n",
      "Sum of pos: 18\n"
     ]
    }
   ],
   "source": [
    "# WAP to find the sum of -ve and +ve numbers seperately using filter and lambda\n",
    "l = [-2,-4,1,4,1,2,10,-5]\n",
    "\n",
    "pos = list(filter(lambda x: x>=0, l))\n",
    "\n",
    "neg = list(filter(lambda x: x<0, l))\n",
    "\n",
    "print(\"Sum of neg:\", sum(neg))\n",
    "print(\"Sum of pos:\", sum(pos))\n"
   ]
  },
  {
   "cell_type": "code",
   "execution_count": 5,
   "metadata": {},
   "outputs": [
    {
     "name": "stdout",
     "output_type": "stream",
     "text": [
      "seegetsec srma\n",
      "secret message\n"
     ]
    }
   ],
   "source": [
    "#PB460\n",
    "\n",
    "def encrypt(s, n):\n",
    "    cnt = 0\n",
    "    res = \"\"\n",
    "    while cnt<n:\n",
    "        indice = cnt\n",
    "        while indice<len(s):\n",
    "            res+=s[indice]\n",
    "            indice+=n\n",
    "        else:\n",
    "            cnt+=1\n",
    "\n",
    "    return res\n",
    "\n",
    "\n",
    "def decrypt(s, n):\n",
    "    res = \" \"*len(s)\n",
    "    res=list(res)\n",
    "    s = list(s)\n",
    "    l = []\n",
    "    cnt = 0\n",
    "    while cnt<n:\n",
    "        indice = cnt\n",
    "        l2 = []\n",
    "        while indice<len(s):\n",
    "            l2.append(indice)\n",
    "            indice+=n\n",
    "        else:\n",
    "            l.append(l2)\n",
    "            cnt+=1\n",
    "\n",
    "    cnt = 0\n",
    "    for i in l:\n",
    "        for j in i:\n",
    "            res[j]=s[cnt]\n",
    "            cnt+=1\n",
    "\n",
    "    return \"\".join(res)\n",
    "\n",
    "\n",
    "\n",
    "\n",
    "s = \"secret message\"\n",
    "# expected: T poaomgnghiyn gm geist,prilus h ranaa\n",
    "res = encrypt(s, 4)\n",
    "print(res)\n",
    "print(decrypt(res, 4))"
   ]
  },
  {
   "cell_type": "code",
   "execution_count": 6,
   "metadata": {},
   "outputs": [
    {
     "name": "stdout",
     "output_type": "stream",
     "text": [
      "0\n"
     ]
    }
   ],
   "source": [
    "# WAP given an array of +ve integers let s be the sum of digits of the minimal element of A\n",
    "# Return 0 if S is odd otherwise return one\n",
    "\n",
    "def odd_or_even_sum(l):\n",
    "    if sum(l)%2==0:\n",
    "        return 1\n",
    "    else:\n",
    "        return 0\n",
    "\n",
    "l = [1,2,3,4,5,6,7,8,1]\n",
    "print(odd_or_even_sum(l))"
   ]
  },
  {
   "cell_type": "code",
   "execution_count": 7,
   "metadata": {},
   "outputs": [],
   "source": [
    "# Given a String s return the length of the longest substring between two equal chars\n",
    "# Excluding these to characters. If theres no such substring return -1\n",
    "\n",
    "def ret_longest(x):\n",
    "    x=x.lower()\n",
    "    d = {}\n",
    "    s = set(list(x))\n",
    "    for i in s:\n",
    "        c = x.count(i)\n",
    "        if c>1:\n",
    "            d[i]=c\n",
    "    print(d)\n",
    "    \n",
    "    l = []\n",
    "    for i in d:\n",
    "        l2 = []\n",
    "        cnt = 0\n",
    "        while cnt!=-1:\n",
    "            k = x.find(i, cnt)\n",
    "            if k==-1:\n",
    "                break\n",
    "            l2.append(k)\n",
    "            cnt = k+1\n",
    "        l.append(l2)\n",
    "\n",
    "    strings = []\n",
    "    for i in l:\n",
    "        strings.append()\n",
    "\n",
    "# ret_longest(\"misissipi\")\n",
    "# print(\"Rishabh\".find('h', 3))\n",
    "\n",
    "\n",
    "# this program is incomplete as i didint understood the question correctly"
   ]
  },
  {
   "cell_type": "code",
   "execution_count": 10,
   "metadata": {},
   "outputs": [
    {
     "name": "stdout",
     "output_type": "stream",
     "text": [
      "True\n"
     ]
    }
   ],
   "source": [
    "# WAP to find the minimum window in a given string which contains all the characters of all the given string\n",
    "l = [True, True , True]\n",
    "b = True\n",
    "for i in l:\n",
    "    b = b and i\n",
    "print(b)"
   ]
  },
  {
   "cell_type": "code",
   "execution_count": null,
   "metadata": {},
   "outputs": [],
   "source": [
    "# WAP to find the minimum window in a given string which contains all the characters of all the given string\n",
    "str1 = \"prwsoeriusfr\"\n",
    "str2 = \"osu\"\n",
    "lst = list(str2)\n",
    "start = 0\n",
    "end = 0\n",
    "\n",
    "def calc_truth(l):\n",
    "    b = True\n",
    "    for i in l:\n",
    "        b = b and i\n",
    "    \n",
    "    return b\n",
    "truth = []\n",
    "for i in str2:\n",
    "    truth.append(False)\n",
    "\n",
    "cnt=0\n",
    "for i in str1:\n",
    "    if calc_truth(truth):\n",
    "        break\n",
    "    if i in lst:\n",
    "        if len(lst)==len(str2):\n",
    "            start = cnt\n",
    "            lst.remove(i)\n",
    "            truth[len(lst)]==True\n",
    "        elif len(lst)==1:\n",
    "            end=cnt\n",
    "            lst.remove(i)\n",
    "            truth[len(lst)]==True\n",
    "        else:\n",
    "            lst.remove(i)\n",
    "            truth[len(lst)]==True\n",
    "\n",
    "print(str1[start:end+1])\n",
    "# Output is Wrong. Answer incomplete"
   ]
  }
 ],
 "metadata": {
  "kernelspec": {
   "display_name": "Python 3",
   "language": "python",
   "name": "python3"
  },
  "language_info": {
   "codemirror_mode": {
    "name": "ipython",
    "version": 3
   },
   "file_extension": ".py",
   "mimetype": "text/x-python",
   "name": "python",
   "nbconvert_exporter": "python",
   "pygments_lexer": "ipython3",
   "version": "3.8.5"
  }
 },
 "nbformat": 4,
 "nbformat_minor": 4
}
