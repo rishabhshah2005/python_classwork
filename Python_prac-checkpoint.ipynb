{
 "cells": [
  {
   "cell_type": "markdown",
   "metadata": {},
   "source": [
    "A variable is a container in computers memory where an object is stored"
   ]
  },
  {
   "cell_type": "code",
   "execution_count": 37,
   "metadata": {},
   "outputs": [
    {
     "name": "stdout",
     "output_type": "stream",
     "text": [
      "140711091056128\n"
     ]
    }
   ],
   "source": [
    "import sys\n",
    "import os\n",
    "import subprocess as sb\n",
    "a = int(56.6)\n",
    "print(id(a))"
   ]
  },
  {
   "cell_type": "code",
   "execution_count": 39,
   "metadata": {},
   "outputs": [
    {
     "name": "stdout",
     "output_type": "stream",
     "text": [
      "<class 'int'>\n",
      "56\n",
      "a\n"
     ]
    }
   ],
   "source": [
    "print(type(a))\n",
    "print(a)\n",
    "print(chr(97))"
   ]
  },
  {
   "cell_type": "code",
   "execution_count": 24,
   "metadata": {},
   "outputs": [
    {
     "data": {
      "text/plain": [
       "['ABOVE_NORMAL_PRIORITY_CLASS',\n",
       " 'BELOW_NORMAL_PRIORITY_CLASS',\n",
       " 'CREATE_BREAKAWAY_FROM_JOB',\n",
       " 'CREATE_DEFAULT_ERROR_MODE',\n",
       " 'CREATE_NEW_CONSOLE',\n",
       " 'CREATE_NEW_PROCESS_GROUP',\n",
       " 'CREATE_NO_WINDOW',\n",
       " 'CalledProcessError',\n",
       " 'CompletedProcess',\n",
       " 'DETACHED_PROCESS',\n",
       " 'DEVNULL',\n",
       " 'HIGH_PRIORITY_CLASS',\n",
       " 'Handle',\n",
       " 'IDLE_PRIORITY_CLASS',\n",
       " 'NORMAL_PRIORITY_CLASS',\n",
       " 'PIPE',\n",
       " 'Popen',\n",
       " 'REALTIME_PRIORITY_CLASS',\n",
       " 'STARTF_USESHOWWINDOW',\n",
       " 'STARTF_USESTDHANDLES',\n",
       " 'STARTUPINFO',\n",
       " 'STDOUT',\n",
       " 'STD_ERROR_HANDLE',\n",
       " 'STD_INPUT_HANDLE',\n",
       " 'STD_OUTPUT_HANDLE',\n",
       " 'SW_HIDE',\n",
       " 'SubprocessError',\n",
       " 'TimeoutExpired',\n",
       " '_USE_POSIX_SPAWN',\n",
       " '__all__',\n",
       " '__builtins__',\n",
       " '__cached__',\n",
       " '__doc__',\n",
       " '__file__',\n",
       " '__loader__',\n",
       " '__name__',\n",
       " '__package__',\n",
       " '__spec__',\n",
       " '_active',\n",
       " '_args_from_interpreter_flags',\n",
       " '_cleanup',\n",
       " '_mswindows',\n",
       " '_optim_args_from_interpreter_flags',\n",
       " '_time',\n",
       " '_use_posix_spawn',\n",
       " '_winapi',\n",
       " 'builtins',\n",
       " 'call',\n",
       " 'check_call',\n",
       " 'check_output',\n",
       " 'contextlib',\n",
       " 'errno',\n",
       " 'getoutput',\n",
       " 'getstatusoutput',\n",
       " 'io',\n",
       " 'list2cmdline',\n",
       " 'msvcrt',\n",
       " 'os',\n",
       " 'run',\n",
       " 'signal',\n",
       " 'sys',\n",
       " 'threading',\n",
       " 'time',\n",
       " 'warnings']"
      ]
     },
     "execution_count": 24,
     "metadata": {},
     "output_type": "execute_result"
    }
   ],
   "source": [
    "sys.getsizeof(a)\n",
    "dir(os)"
   ]
  },
  {
   "cell_type": "markdown",
   "metadata": {},
   "source": [
    "*Rules to define variables:*\n",
    "- the variable name must start with a letter or underscore\n",
    "- symbols are not allowed in variables\n",
    "- Use meaningfull variable names\n",
    "- For constants use capital letters\n",
    "- underscore to seperate to words (convention)"
   ]
  },
  {
   "cell_type": "code",
   "execution_count": 40,
   "metadata": {},
   "outputs": [
    {
     "name": "stdout",
     "output_type": "stream",
     "text": [
      "\n",
      "Here is a list of the Python keywords.  Enter any keyword to get more help.\n",
      "\n",
      "False               class               from                or\n",
      "None                continue            global              pass\n",
      "True                def                 if                  raise\n",
      "and                 del                 import              return\n",
      "as                  elif                in                  try\n",
      "assert              else                is                  while\n",
      "async               except              lambda              with\n",
      "await               finally             nonlocal            yield\n",
      "break               for                 not                 \n",
      "\n"
     ]
    }
   ],
   "source": [
    "help('keywords')"
   ]
  },
  {
   "cell_type": "code",
   "execution_count": 59,
   "metadata": {},
   "outputs": [
    {
     "name": "stdout",
     "output_type": "stream",
     "text": [
      "hello56 #hi baba sdsd\n",
      "None\n",
      "Help on built-in function print in module builtins:\n",
      "\n",
      "print(...)\n",
      "    print(value, ..., sep=' ', end='\\n', file=sys.stdout, flush=False)\n",
      "    \n",
      "    Prints the values to a stream, or to sys.stdout by default.\n",
      "    Optional keyword arguments:\n",
      "    file:  a file-like object (stream); defaults to the current sys.stdout.\n",
      "    sep:   string inserted between values, default a space.\n",
      "    end:   string appended after the last value, default a newline.\n",
      "    flush: whether to forcibly flush the stream.\n",
      "\n"
     ]
    }
   ],
   "source": [
    "print('hello'+str(a),\"#\", end=\"\")\n",
    "print(\"hi\", end=\" baba \")\n",
    "print(print(\"sdsd\"))\n",
    "help(print)"
   ]
  },
  {
   "cell_type": "code",
   "execution_count": 58,
   "metadata": {},
   "outputs": [
    {
     "data": {
      "text/plain": [
       "['ABOVE_NORMAL_PRIORITY_CLASS',\n",
       " 'BELOW_NORMAL_PRIORITY_CLASS',\n",
       " 'CREATE_BREAKAWAY_FROM_JOB',\n",
       " 'CREATE_DEFAULT_ERROR_MODE',\n",
       " 'CREATE_NEW_CONSOLE',\n",
       " 'CREATE_NEW_PROCESS_GROUP',\n",
       " 'CREATE_NO_WINDOW',\n",
       " 'CalledProcessError',\n",
       " 'CompletedProcess',\n",
       " 'DETACHED_PROCESS',\n",
       " 'DEVNULL',\n",
       " 'HIGH_PRIORITY_CLASS',\n",
       " 'Handle',\n",
       " 'IDLE_PRIORITY_CLASS',\n",
       " 'NORMAL_PRIORITY_CLASS',\n",
       " 'PIPE',\n",
       " 'Popen',\n",
       " 'REALTIME_PRIORITY_CLASS',\n",
       " 'STARTF_USESHOWWINDOW',\n",
       " 'STARTF_USESTDHANDLES',\n",
       " 'STARTUPINFO',\n",
       " 'STDOUT',\n",
       " 'STD_ERROR_HANDLE',\n",
       " 'STD_INPUT_HANDLE',\n",
       " 'STD_OUTPUT_HANDLE',\n",
       " 'SW_HIDE',\n",
       " 'SubprocessError',\n",
       " 'TimeoutExpired',\n",
       " '_USE_POSIX_SPAWN',\n",
       " '__all__',\n",
       " '__builtins__',\n",
       " '__cached__',\n",
       " '__doc__',\n",
       " '__file__',\n",
       " '__loader__',\n",
       " '__name__',\n",
       " '__package__',\n",
       " '__spec__',\n",
       " '_active',\n",
       " '_args_from_interpreter_flags',\n",
       " '_cleanup',\n",
       " '_mswindows',\n",
       " '_optim_args_from_interpreter_flags',\n",
       " '_time',\n",
       " '_use_posix_spawn',\n",
       " '_winapi',\n",
       " 'builtins',\n",
       " 'call',\n",
       " 'check_call',\n",
       " 'check_output',\n",
       " 'contextlib',\n",
       " 'errno',\n",
       " 'getoutput',\n",
       " 'getstatusoutput',\n",
       " 'io',\n",
       " 'list2cmdline',\n",
       " 'msvcrt',\n",
       " 'os',\n",
       " 'run',\n",
       " 'signal',\n",
       " 'sys',\n",
       " 'threading',\n",
       " 'time',\n",
       " 'warnings']"
      ]
     },
     "execution_count": 58,
     "metadata": {},
     "output_type": "execute_result"
    }
   ],
   "source": [
    "dir(sb)"
   ]
  },
  {
   "cell_type": "code",
   "execution_count": 60,
   "metadata": {},
   "outputs": [
    {
     "data": {
      "text/plain": [
       "['ArithmeticError',\n",
       " 'AssertionError',\n",
       " 'AttributeError',\n",
       " 'BaseException',\n",
       " 'BlockingIOError',\n",
       " 'BrokenPipeError',\n",
       " 'BufferError',\n",
       " 'BytesWarning',\n",
       " 'ChildProcessError',\n",
       " 'ConnectionAbortedError',\n",
       " 'ConnectionError',\n",
       " 'ConnectionRefusedError',\n",
       " 'ConnectionResetError',\n",
       " 'DeprecationWarning',\n",
       " 'EOFError',\n",
       " 'Ellipsis',\n",
       " 'EnvironmentError',\n",
       " 'Exception',\n",
       " 'False',\n",
       " 'FileExistsError',\n",
       " 'FileNotFoundError',\n",
       " 'FloatingPointError',\n",
       " 'FutureWarning',\n",
       " 'GeneratorExit',\n",
       " 'IOError',\n",
       " 'ImportError',\n",
       " 'ImportWarning',\n",
       " 'IndentationError',\n",
       " 'IndexError',\n",
       " 'InterruptedError',\n",
       " 'IsADirectoryError',\n",
       " 'KeyError',\n",
       " 'KeyboardInterrupt',\n",
       " 'LookupError',\n",
       " 'MemoryError',\n",
       " 'ModuleNotFoundError',\n",
       " 'NameError',\n",
       " 'None',\n",
       " 'NotADirectoryError',\n",
       " 'NotImplemented',\n",
       " 'NotImplementedError',\n",
       " 'OSError',\n",
       " 'OverflowError',\n",
       " 'PendingDeprecationWarning',\n",
       " 'PermissionError',\n",
       " 'ProcessLookupError',\n",
       " 'RecursionError',\n",
       " 'ReferenceError',\n",
       " 'ResourceWarning',\n",
       " 'RuntimeError',\n",
       " 'RuntimeWarning',\n",
       " 'StopAsyncIteration',\n",
       " 'StopIteration',\n",
       " 'SyntaxError',\n",
       " 'SyntaxWarning',\n",
       " 'SystemError',\n",
       " 'SystemExit',\n",
       " 'TabError',\n",
       " 'TimeoutError',\n",
       " 'True',\n",
       " 'TypeError',\n",
       " 'UnboundLocalError',\n",
       " 'UnicodeDecodeError',\n",
       " 'UnicodeEncodeError',\n",
       " 'UnicodeError',\n",
       " 'UnicodeTranslateError',\n",
       " 'UnicodeWarning',\n",
       " 'UserWarning',\n",
       " 'ValueError',\n",
       " 'Warning',\n",
       " 'WindowsError',\n",
       " 'ZeroDivisionError',\n",
       " '__IPYTHON__',\n",
       " '__build_class__',\n",
       " '__debug__',\n",
       " '__doc__',\n",
       " '__import__',\n",
       " '__loader__',\n",
       " '__name__',\n",
       " '__package__',\n",
       " '__spec__',\n",
       " 'abs',\n",
       " 'all',\n",
       " 'any',\n",
       " 'ascii',\n",
       " 'bin',\n",
       " 'bool',\n",
       " 'breakpoint',\n",
       " 'bytearray',\n",
       " 'bytes',\n",
       " 'callable',\n",
       " 'chr',\n",
       " 'classmethod',\n",
       " 'compile',\n",
       " 'complex',\n",
       " 'copyright',\n",
       " 'credits',\n",
       " 'delattr',\n",
       " 'dict',\n",
       " 'dir',\n",
       " 'display',\n",
       " 'divmod',\n",
       " 'enumerate',\n",
       " 'eval',\n",
       " 'exec',\n",
       " 'filter',\n",
       " 'float',\n",
       " 'format',\n",
       " 'frozenset',\n",
       " 'get_ipython',\n",
       " 'getattr',\n",
       " 'globals',\n",
       " 'hasattr',\n",
       " 'hash',\n",
       " 'help',\n",
       " 'hex',\n",
       " 'id',\n",
       " 'input',\n",
       " 'int',\n",
       " 'isinstance',\n",
       " 'issubclass',\n",
       " 'iter',\n",
       " 'len',\n",
       " 'license',\n",
       " 'list',\n",
       " 'locals',\n",
       " 'map',\n",
       " 'max',\n",
       " 'memoryview',\n",
       " 'min',\n",
       " 'next',\n",
       " 'object',\n",
       " 'oct',\n",
       " 'open',\n",
       " 'ord',\n",
       " 'pow',\n",
       " 'print',\n",
       " 'property',\n",
       " 'range',\n",
       " 'repr',\n",
       " 'reversed',\n",
       " 'round',\n",
       " 'set',\n",
       " 'setattr',\n",
       " 'slice',\n",
       " 'sorted',\n",
       " 'staticmethod',\n",
       " 'str',\n",
       " 'sum',\n",
       " 'super',\n",
       " 'tuple',\n",
       " 'type',\n",
       " 'vars',\n",
       " 'zip']"
      ]
     },
     "execution_count": 60,
     "metadata": {},
     "output_type": "execute_result"
    }
   ],
   "source": [
    "dir(__builtins__)"
   ]
  },
  {
   "cell_type": "code",
   "execution_count": 66,
   "metadata": {},
   "outputs": [
    {
     "name": "stdout",
     "output_type": "stream",
     "text": [
      "Help on function run in module subprocess:\n",
      "\n",
      "run(*popenargs, input=None, capture_output=False, timeout=None, check=False, **kwargs)\n",
      "    Run command with arguments and return a CompletedProcess instance.\n",
      "    \n",
      "    The returned instance will have attributes args, returncode, stdout and\n",
      "    stderr. By default, stdout and stderr are not captured, and those attributes\n",
      "    will be None. Pass stdout=PIPE and/or stderr=PIPE in order to capture them.\n",
      "    \n",
      "    If check is True and the exit code was non-zero, it raises a\n",
      "    CalledProcessError. The CalledProcessError object will have the return code\n",
      "    in the returncode attribute, and output & stderr attributes if those streams\n",
      "    were captured.\n",
      "    \n",
      "    If timeout is given, and the process takes too long, a TimeoutExpired\n",
      "    exception will be raised.\n",
      "    \n",
      "    There is an optional argument \"input\", allowing you to\n",
      "    pass bytes or a string to the subprocess's stdin.  If you use this argument\n",
      "    you may not also use the Popen constructor's \"stdin\" argument, as\n",
      "    it will be used internally.\n",
      "    \n",
      "    By default, all communication is in bytes, and therefore any \"input\" should\n",
      "    be bytes, and the stdout and stderr will be bytes. If in text mode, any\n",
      "    \"input\" should be a string, and stdout and stderr will be strings decoded\n",
      "    according to locale encoding, or by \"encoding\" if set. Text mode is\n",
      "    triggered by setting any of text, encoding, errors or universal_newlines.\n",
      "    \n",
      "    The other arguments are the same as for the Popen constructor.\n",
      "\n"
     ]
    }
   ],
   "source": [
    "''' \n",
    "heelloo this is a multiline comment\n",
    "'''\n",
    "help(sb.run)\n",
    "# sb.os.run(['echo', 'hello'])"
   ]
  },
  {
   "cell_type": "code",
   "execution_count": 97,
   "metadata": {},
   "outputs": [
    {
     "name": "stdout",
     "output_type": "stream",
     "text": [
      "1.83\n",
      "3.141592653589793\n",
      "Enter you favourite number: 5\n",
      "your fav number is 5, wow\n",
      "entered number was 5\n",
      "Help on method_descriptor:\n",
      "\n",
      "format(...)\n",
      "    S.format(*args, **kwargs) -> str\n",
      "    \n",
      "    Return a formatted version of S, using substitutions from args and kwargs.\n",
      "    The substitutions are identified by braces ('{' and '}').\n",
      "\n"
     ]
    }
   ],
   "source": [
    "import math\n",
    "a = 11/6\n",
    "print(round(a, 2))\n",
    "print(math.pi)\n",
    "# input returns string\n",
    "a = int(input('Enter you favourite number: '))\n",
    "print(f\"your fav number is {a}, wow\")\n",
    "print(\"entered number was {}\".format(a))\n",
    "help(str.format)"
   ]
  },
  {
   "cell_type": "code",
   "execution_count": 104,
   "metadata": {},
   "outputs": [
    {
     "name": "stdout",
     "output_type": "stream",
     "text": [
      "the division of 11,121 is 0.09090909090909091\n"
     ]
    }
   ],
   "source": [
    "# WAP to add 3 vars\n",
    "a = 11\n",
    "b = 121\n",
    "c = 15\n",
    "print(f\"the division of {a},{b} is {a/b}\")"
   ]
  },
  {
   "cell_type": "code",
   "execution_count": 106,
   "metadata": {},
   "outputs": [
    {
     "name": "stdout",
     "output_type": "stream",
     "text": [
      "Enter radius: 1.7\n",
      "The perimeter is 10.68\n",
      "The Area is 9.08\n"
     ]
    }
   ],
   "source": [
    "# WAP to calc perimeter and area of a circle\n",
    "a = input(\"Enter radius: \")\n",
    "a = float(a)\n",
    "print(f\"The perimeter is {math.pi*2*a:.2f}\")\n",
    "print(f\"The Area is {math.pi*(a**2):.2f}\")\n",
    "input()"
   ]
  },
  {
   "cell_type": "code",
   "execution_count": 112,
   "metadata": {},
   "outputs": [
    {
     "name": "stdout",
     "output_type": "stream",
     "text": [
      "True\n",
      "False\n"
     ]
    }
   ],
   "source": [
    "# ans = sb.check_output(['ipconfig'], text=True)\n",
    "# print(ans)\n",
    "a = [1,2,3,4,5]\n",
    "d = {1:5, 5:6}\n",
    "print(6 not in a)\n",
    "print(2 in d)"
   ]
  },
  {
   "cell_type": "code",
   "execution_count": 114,
   "metadata": {},
   "outputs": [
    {
     "name": "stdout",
     "output_type": "stream",
     "text": [
      "approved\n"
     ]
    }
   ],
   "source": [
    "# membership operator is used to verify if a particular element is in the given sequence or not\n",
    "# now the sequence can be list or tuple, String or dictionary, the keyords are 'in' and \"not in\"\n",
    "\n",
    "age = 19\n",
    "lic = 'approved' if age>18 else 'rejected'\n",
    "print(lic)"
   ]
  },
  {
   "cell_type": "code",
   "execution_count": 128,
   "metadata": {},
   "outputs": [
    {
     "name": "stdout",
     "output_type": "stream",
     "text": [
      "15\n"
     ]
    }
   ],
   "source": [
    "'''\n",
    "1011 & 1101 = 1000s\n",
    "11     13 = 15\n",
    "'''\n",
    "print(11 | 13)"
   ]
  },
  {
   "cell_type": "code",
   "execution_count": 16,
   "metadata": {},
   "outputs": [
    {
     "data": {
      "text/plain": [
       "['__add__',\n",
       " '__class__',\n",
       " '__contains__',\n",
       " '__delattr__',\n",
       " '__delitem__',\n",
       " '__dir__',\n",
       " '__doc__',\n",
       " '__eq__',\n",
       " '__format__',\n",
       " '__ge__',\n",
       " '__getattribute__',\n",
       " '__getitem__',\n",
       " '__gt__',\n",
       " '__hash__',\n",
       " '__iadd__',\n",
       " '__imul__',\n",
       " '__init__',\n",
       " '__init_subclass__',\n",
       " '__iter__',\n",
       " '__le__',\n",
       " '__len__',\n",
       " '__lt__',\n",
       " '__mul__',\n",
       " '__ne__',\n",
       " '__new__',\n",
       " '__reduce__',\n",
       " '__reduce_ex__',\n",
       " '__repr__',\n",
       " '__reversed__',\n",
       " '__rmul__',\n",
       " '__setattr__',\n",
       " '__setitem__',\n",
       " '__sizeof__',\n",
       " '__str__',\n",
       " '__subclasshook__',\n",
       " 'append',\n",
       " 'clear',\n",
       " 'copy',\n",
       " 'count',\n",
       " 'extend',\n",
       " 'index',\n",
       " 'insert',\n",
       " 'pop',\n",
       " 'remove',\n",
       " 'reverse',\n",
       " 'sort']"
      ]
     },
     "execution_count": 16,
     "metadata": {},
     "output_type": "execute_result"
    }
   ],
   "source": [
    "import math\n",
    "\n",
    "dir([])"
   ]
  },
  {
   "cell_type": "markdown",
   "metadata": {},
   "source": [
    "WAP to ask user to enter 10 scores first print the highest and the lowest score \n",
    ", 2. Print the average of the score. 3. Print the second largest score. 4. drop the 2 lowest score and print the average of rest of them"
   ]
  },
  {
   "cell_type": "code",
   "execution_count": 18,
   "metadata": {},
   "outputs": [
    {
     "name": "stdout",
     "output_type": "stream",
     "text": [
      "Enter score 1: 12\n",
      "Enter score 2: 43\n",
      "Enter score 3: 55\n",
      "Enter score 4: 99\n",
      "Enter score 5: 34\n",
      "Enter score 6: 22\n",
      "Enter score 7: 31\n",
      "Enter score 8: 89\n",
      "Enter score 9: 31\n",
      "Enter score 10: 2\n",
      "Highest: 99\n",
      "Lowest: 2\n",
      "Average: 41.8\n",
      "2nd highest: 89\n",
      "popping last 2\n",
      "Average: 50.5\n"
     ]
    }
   ],
   "source": [
    "scores = []\n",
    "for i in range(10):\n",
    "    sc = input(f\"Enter score {i+1}: \")\n",
    "    scores.append(int(sc))\n",
    "print(f\"Highest: {max(scores)}\")\n",
    "print(f\"Lowest: {min(scores)}\")\n",
    "print(f\"Average: {sum(scores)/10}\")\n",
    "scores.sort()\n",
    "print(f\"2nd highest: {scores[-2]}\")\n",
    "scores.reverse()\n",
    "scores.pop()\n",
    "scores.pop()\n",
    "print(\"popping last 2\")\n",
    "print(f\"Average: {sum(scores)/8}\")"
   ]
  },
  {
   "cell_type": "code",
   "execution_count": 42,
   "metadata": {},
   "outputs": [
    {
     "name": "stdout",
     "output_type": "stream",
     "text": [
      "                     \n",
      "                    * \n",
      "                   * * \n",
      "                  * * * \n",
      "                 * * * * \n",
      "                * * * * * \n",
      "               * * * * * * \n",
      "              * * * * * * * \n",
      "             * * * * * * * * \n",
      "            * * * * * * * * * \n",
      "           * * * * * * * * * * \n",
      "          * * * * * * * * * * * \n",
      "         * * * * * * * * * * * * \n",
      "        * * * * * * * * * * * * * \n",
      "       * * * * * * * * * * * * * * \n",
      "      * * * * * * * * * * * * * * * \n",
      "     * * * * * * * * * * * * * * * * \n",
      "    * * * * * * * * * * * * * * * * * \n",
      "   * * * * * * * * * * * * * * * * * * \n",
      "  * * * * * * * * * * * * * * * * * * * \n",
      " * * * * * * * * * * * * * * * * * * * * \n"
     ]
    }
   ],
   "source": [
    "C= 21\n",
    "for i in range(C):\n",
    "    print(\" \"*(C-i)+\"* \"*i)"
   ]
  },
  {
   "cell_type": "code",
   "execution_count": 40,
   "metadata": {},
   "outputs": [
    {
     "name": "stdout",
     "output_type": "stream",
     "text": [
      "1\n",
      "2\n",
      "3\n",
      "4\n",
      "5\n",
      "6\n",
      "7\n",
      "8\n",
      "9\n",
      "89\n",
      "135\n",
      "175\n",
      "518\n",
      "598\n",
      "1306\n",
      "1676\n",
      "2427\n"
     ]
    }
   ],
   "source": [
    "for i in range(1, 100000):\n",
    "    str_i = str(i)\n",
    "    cnt = 0\n",
    "    sum_of_dig = 0\n",
    "    for j in str_i:\n",
    "        cnt+=1\n",
    "        sum_of_dig += int(j)**cnt\n",
    "    if sum_of_dig==i:\n",
    "        print(i) "
   ]
  },
  {
   "cell_type": "code",
   "execution_count": 54,
   "metadata": {},
   "outputs": [
    {
     "name": "stdout",
     "output_type": "stream",
     "text": [
      "Enter your number: 27\n",
      "The number is not square free!!\n"
     ]
    }
   ],
   "source": [
    "# WAP To ask the user for a number and to check if the number is square free or not\n",
    "#  A number is square free if its not divisible by any perfect square other than 1\n",
    "num = int(input(\"Enter your number: \"))\n",
    "cnt = 1\n",
    "free = True\n",
    "while (cnt**3)<=num:\n",
    "    cnt+=1\n",
    "    if num%(cnt**3)==0:\n",
    "        print(\"The number is not square free!!\")\n",
    "        free = False\n",
    "        break\n",
    "if free:\n",
    "    print(\"The number is square free\")"
   ]
  },
  {
   "cell_type": "code",
   "execution_count": 60,
   "metadata": {},
   "outputs": [
    {
     "name": "stdout",
     "output_type": "stream",
     "text": [
      "Enter change: 0.72\n",
      "quaters: 2\n",
      "dimes: 2\n",
      "nickels: 0\n",
      "pennies: 2\n"
     ]
    }
   ],
   "source": [
    "# WAP that gives an amount of change less than 1$ and will print out exactly how many quaters dimes and nickels, pennies\n",
    "# Are needed int the context of US currency\n",
    "# quater = 25 cents\n",
    "# 1 Dime = 10 cents\n",
    "# 1 nickel = 5 cents\n",
    "# 1 penny = 1 cent\n",
    "\n",
    "chng = float(input(\"Enter change: \"))\n",
    "chng = int(chng*100)\n",
    "q = 0\n",
    "d = 0\n",
    "n = 0\n",
    "p = 0\n",
    "if (chng//25)!= 0:\n",
    "    q += chng//25\n",
    "    chng -= 25*(chng//25)\n",
    "        \n",
    "if (chng//10)!= 0:\n",
    "    d += chng//10\n",
    "    chng -= 10*(chng//10)\n",
    "        \n",
    "if (chng//5)!= 0:\n",
    "    n += chng//5\n",
    "    chng -= 5*(chng//5)\n",
    "        \n",
    "if chng!=0:\n",
    "    p = chng\n",
    "    chng = 0\n",
    "        \n",
    "print(f\"quaters: {q}\")\n",
    "print(f\"dimes: {d}\")\n",
    "print(f\"nickels: {n}\")\n",
    "print(f\"pennies: {p}\")"
   ]
  },
  {
   "cell_type": "code",
   "execution_count": 67,
   "metadata": {},
   "outputs": [
    {
     "name": "stdout",
     "output_type": "stream",
     "text": [
      "220, 284\n"
     ]
    }
   ],
   "source": [
    "# WAP to find amicable number pairs between 1 and 300\n",
    "# sum factors of the number excluding the numbers is equal to the sum of factors of the other numbers\n",
    "factors = dict()\n",
    "\n",
    "def sum_of_facts(n):\n",
    "    sum = 0\n",
    "    for i in range(1, n):\n",
    "        if n%i==0:\n",
    "            sum+=i\n",
    "    return sum\n",
    "\n",
    "for i in range(1, 301):\n",
    "    sum = sum_of_facts(i)\n",
    "    factors[i] = sum\n",
    "\n",
    "    if sum in factors:\n",
    "        val = factors.get(sum)\n",
    "        if val==i and sum!=i:\n",
    "            print(f\"{sum}, {i}\")\n",
    "    \n",
    "    \n",
    "        "
   ]
  },
  {
   "cell_type": "code",
   "execution_count": 68,
   "metadata": {},
   "outputs": [
    {
     "name": "stdout",
     "output_type": "stream",
     "text": [
      "28\n"
     ]
    }
   ],
   "source": [
    "print(sum_of_facts(28))"
   ]
  },
  {
   "cell_type": "code",
   "execution_count": null,
   "metadata": {},
   "outputs": [],
   "source": []
  }
 ],
 "metadata": {
  "kernelspec": {
   "display_name": "Python 3",
   "language": "python",
   "name": "python3"
  },
  "language_info": {
   "codemirror_mode": {
    "name": "ipython",
    "version": 3
   },
   "file_extension": ".py",
   "mimetype": "text/x-python",
   "name": "python",
   "nbconvert_exporter": "python",
   "pygments_lexer": "ipython3",
   "version": "3.8.5"
  }
 },
 "nbformat": 4,
 "nbformat_minor": 4
}
