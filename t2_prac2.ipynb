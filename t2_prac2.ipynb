{
 "cells": [
  {
   "cell_type": "code",
   "execution_count": 10,
   "metadata": {},
   "outputs": [
    {
     "name": "stdout",
     "output_type": "stream",
     "text": [
      "Enter int: 1244\n",
      "MCCXLIV\n"
     ]
    }
   ],
   "source": [
    "# Convert integer to roman numbers\n",
    "\n",
    "tab = {1:\"I\", 5:\"V\", 10:\"X\", 50:\"L\", 100:\"C\", 500:\"D\", 1000:\"M\", 4:\"IV\", 9:\"IX\", 40:\"XL\", 900:\"CM\", 90:\"XC\"}\n",
    "\n",
    "num = tab.keys()\n",
    "nums=[]\n",
    "for i in num:\n",
    "    nums.append(i)\n",
    "\n",
    "nums.sort(reverse=True)\n",
    "    \n",
    "n = int(input(\"Enter int: \"))\n",
    "s = \"\"\n",
    "while n>0:\n",
    "    if n%nums[0]==n:\n",
    "        del nums[0]\n",
    "    else:\n",
    "        s+=tab.get(nums[0])\n",
    "        n-=nums[0]\n",
    "\n",
    "print(s)"
   ]
  },
  {
   "cell_type": "code",
   "execution_count": 11,
   "metadata": {},
   "outputs": [
    {
     "name": "stdout",
     "output_type": "stream",
     "text": [
      "Enter roman: MCCXLIV\n",
      "MCC\n",
      "1244\n"
     ]
    }
   ],
   "source": [
    "# Convert roman to integer\n",
    "tab = {\"I\":1, \"V\":5, \"X\":10, \"L\":50,\"C\":100, \"D\":500, \"M\":1000}\n",
    "tab2 = {\"IV\":4, \"IX\":9, \"XL\":40, \"CM\":900, \"XC\":90}\n",
    "\n",
    "n = 0\n",
    "s = input(\"Enter roman: \")\n",
    "\n",
    "for i in tab2:\n",
    "    if i in s:\n",
    "        s = s.replace(i, \"\")\n",
    "        n+=tab2[i]\n",
    "print(s)\n",
    "for i in s:\n",
    "    n+=tab.get(i)\n",
    "\n",
    "print(n)\n"
   ]
  },
  {
   "cell_type": "code",
   "execution_count": null,
   "metadata": {},
   "outputs": [],
   "source": [
    "# WAP to add given 2 matrix\n",
    "\n",
    "m1 = input(\"Enter matrix 1: \")\n",
    "m2 = input(\"Enter matrix 2: \")\n",
    "\n",
    "m1 = m1.replace(\" \", \",\")\n",
    "m2 = m2.replace(\" \", \",\")\n",
    "m1 = eval(m1)\n",
    "m2 = eval(m2)\n",
    "\n",
    "if len(m1) == len(m2):\n",
    "    for i in range(len(m1)):\n",
    "        if len(m1[i]) != len(m2[i]):\n",
    "            print(\"Invalid matrice\")\n",
    "            exit()\n",
    "\n",
    "for i in range(len(m1)):\n",
    "    for j in range(len(m1[0])):\n",
    "        print(m1[i][j] + m2[i][j], end=\" \")\n",
    "    print()"
   ]
  }
 ],
 "metadata": {
  "kernelspec": {
   "display_name": "Python 3",
   "language": "python",
   "name": "python3"
  },
  "language_info": {
   "codemirror_mode": {
    "name": "ipython",
    "version": 3
   },
   "file_extension": ".py",
   "mimetype": "text/x-python",
   "name": "python",
   "nbconvert_exporter": "python",
   "pygments_lexer": "ipython3",
   "version": "3.8.5"
  }
 },
 "nbformat": 4,
 "nbformat_minor": 4
}
